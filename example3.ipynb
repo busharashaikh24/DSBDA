{
 "cells": [
  {
   "cell_type": "code",
   "execution_count": 24,
   "id": "862a9b08-8031-4244-89cf-2d30eeca4ce1",
   "metadata": {},
   "outputs": [
    {
     "name": "stdout",
     "output_type": "stream",
     "text": [
      "Note: you may need to restart the kernel to use updated packages.\n"
     ]
    },
    {
     "name": "stderr",
     "output_type": "stream",
     "text": [
      "\n",
      "[notice] A new release of pip is available: 24.3.1 -> 25.0\n",
      "[notice] To update, run: python.exe -m pip install --upgrade pip\n"
     ]
    },
    {
     "name": "stdout",
     "output_type": "stream",
     "text": [
      "Requirement already satisfied: pandas in c:\\users\\osman\\appdata\\local\\programs\\python\\python313\\lib\\site-packages (2.2.3)\n",
      "Requirement already satisfied: numpy>=1.26.0 in c:\\users\\osman\\appdata\\local\\programs\\python\\python313\\lib\\site-packages (from pandas) (2.2.2)\n",
      "Requirement already satisfied: python-dateutil>=2.8.2 in c:\\users\\osman\\appdata\\local\\programs\\python\\python313\\lib\\site-packages (from pandas) (2.9.0.post0)\n",
      "Requirement already satisfied: pytz>=2020.1 in c:\\users\\osman\\appdata\\local\\programs\\python\\python313\\lib\\site-packages (from pandas) (2024.2)\n",
      "Requirement already satisfied: tzdata>=2022.7 in c:\\users\\osman\\appdata\\local\\programs\\python\\python313\\lib\\site-packages (from pandas) (2025.1)\n",
      "Requirement already satisfied: six>=1.5 in c:\\users\\osman\\appdata\\local\\programs\\python\\python313\\lib\\site-packages (from python-dateutil>=2.8.2->pandas) (1.17.0)\n"
     ]
    }
   ],
   "source": [
    "pip install pandas"
   ]
  },
  {
   "cell_type": "code",
   "execution_count": 25,
   "id": "bb2e6aec-ef28-4913-a1fb-f99646d5c9e7",
   "metadata": {},
   "outputs": [],
   "source": [
    "import pandas as pd"
   ]
  },
  {
   "cell_type": "code",
   "execution_count": 26,
   "id": "a46cd804-9549-4a36-ba4a-ea51c60c1422",
   "metadata": {},
   "outputs": [],
   "source": [
    "data = {\n",
    "    \"Math\": [85, 78, 92, 60, 74, 88],\n",
    "    \"Science\": [80, 82, 89, 65, 70, 90],\n",
    "    \"English\": [75, 85, 78, 55, 72, 88],\n",
    "    \"History\": [70, 75, 80, 50, 68, 82]\n",
    "}"
   ]
  },
  {
   "cell_type": "code",
   "execution_count": 27,
   "id": "7ef424f1-8e0f-4452-9b2c-6ff3c9692156",
   "metadata": {},
   "outputs": [],
   "source": [
    "students = [\"Student1\", \"Student2\", \"Student3\", \"Student4\", \"Student5\", \"Student6\"]"
   ]
  },
  {
   "cell_type": "code",
   "execution_count": 28,
   "id": "f09e4002-f9bc-4600-8428-0e150023c375",
   "metadata": {},
   "outputs": [],
   "source": [
    "exam_scores = pd.DataFrame(data, index=students)"
   ]
  },
  {
   "cell_type": "code",
   "execution_count": 29,
   "id": "b5cc11b1-5e94-4d23-b17f-86eebcbc754c",
   "metadata": {},
   "outputs": [
    {
     "name": "stdout",
     "output_type": "stream",
     "text": [
      "First three rows:\n",
      "           Math  Science  English  History\n",
      "Student1    85       80       75       70\n",
      "Student2    78       82       85       75\n",
      "Student3    92       89       78       80\n"
     ]
    }
   ],
   "source": [
    "print(\"First three rows:\\n\", exam_scores.head(3))"
   ]
  },
  {
   "cell_type": "code",
   "execution_count": 30,
   "id": "47612c4b-67b6-49f5-8ad5-72ef4ca57e95",
   "metadata": {},
   "outputs": [
    {
     "name": "stdout",
     "output_type": "stream",
     "text": [
      "Total students: 6, Total subjects: 4\n"
     ]
    }
   ],
   "source": [
    "num_students, num_subjects = exam_scores.shape\n",
    "print(f\"Total students: {num_students}, Total subjects: {num_subjects}\")\n"
   ]
  },
  {
   "cell_type": "code",
   "execution_count": 31,
   "id": "211c0ab0-8869-4850-9ced-21dec0c4d677",
   "metadata": {},
   "outputs": [
    {
     "name": "stdout",
     "output_type": "stream",
     "text": [
      "Total students: 6, Total subjects: 4\n"
     ]
    }
   ],
   "source": [
    "num_students, num_subjects = exam_scores.shape\n",
    "print(f\"Total students: {num_students}, Total subjects: {num_subjects}\")\n"
   ]
  },
  {
   "cell_type": "code",
   "execution_count": 32,
   "id": "0921ed6a-5b7d-4073-bbcb-b42b83efae73",
   "metadata": {},
   "outputs": [
    {
     "name": "stdout",
     "output_type": "stream",
     "text": [
      "Subjects: ['Math', 'Science', 'English', 'History']\n",
      "Students: ['Student1', 'Student2', 'Student3', 'Student4', 'Student5', 'Student6']\n"
     ]
    }
   ],
   "source": [
    "print(\"Subjects:\", list(exam_scores.columns))\n",
    "print(\"Students:\", list(exam_scores.index))"
   ]
  },
  {
   "cell_type": "code",
   "execution_count": 33,
   "id": "92e1e40f-9bd5-4c9d-b200-8c0a71729c4c",
   "metadata": {},
   "outputs": [
    {
     "name": "stdout",
     "output_type": "stream",
     "text": [
      "Data types:\n",
      " Math       int64\n",
      "Science    int64\n",
      "English    int64\n",
      "History    int64\n",
      "dtype: object\n"
     ]
    }
   ],
   "source": [
    "print(\"Data types:\\n\", exam_scores.dtypes)\n"
   ]
  },
  {
   "cell_type": "code",
   "execution_count": 34,
   "id": "25a87060-e72a-4b4b-9f40-0104af3f5712",
   "metadata": {},
   "outputs": [
    {
     "name": "stdout",
     "output_type": "stream",
     "text": [
      "Missing values:\n",
      " Math       0\n",
      "Science    0\n",
      "English    0\n",
      "History    0\n",
      "dtype: int64\n"
     ]
    }
   ],
   "source": [
    "print(\"Missing values:\\n\", exam_scores.isnull().sum())\n"
   ]
  },
  {
   "cell_type": "code",
   "execution_count": 35,
   "id": "c039cf0a-967f-4a6d-91a6-060e6cc5c90e",
   "metadata": {},
   "outputs": [
    {
     "ename": "KeyError",
     "evalue": "'Student 3'",
     "output_type": "error",
     "traceback": [
      "\u001b[1;31m---------------------------------------------------------------------------\u001b[0m",
      "\u001b[1;31mKeyError\u001b[0m                                  Traceback (most recent call last)",
      "File \u001b[1;32m~\\AppData\\Local\\Programs\\Python\\Python313\\Lib\\site-packages\\pandas\\core\\indexes\\base.py:3805\u001b[0m, in \u001b[0;36mIndex.get_loc\u001b[1;34m(self, key)\u001b[0m\n\u001b[0;32m   3804\u001b[0m \u001b[38;5;28;01mtry\u001b[39;00m:\n\u001b[1;32m-> 3805\u001b[0m     \u001b[38;5;28;01mreturn\u001b[39;00m \u001b[38;5;28;43mself\u001b[39;49m\u001b[38;5;241;43m.\u001b[39;49m\u001b[43m_engine\u001b[49m\u001b[38;5;241;43m.\u001b[39;49m\u001b[43mget_loc\u001b[49m\u001b[43m(\u001b[49m\u001b[43mcasted_key\u001b[49m\u001b[43m)\u001b[49m\n\u001b[0;32m   3806\u001b[0m \u001b[38;5;28;01mexcept\u001b[39;00m \u001b[38;5;167;01mKeyError\u001b[39;00m \u001b[38;5;28;01mas\u001b[39;00m err:\n",
      "File \u001b[1;32mindex.pyx:167\u001b[0m, in \u001b[0;36mpandas._libs.index.IndexEngine.get_loc\u001b[1;34m()\u001b[0m\n",
      "File \u001b[1;32mindex.pyx:196\u001b[0m, in \u001b[0;36mpandas._libs.index.IndexEngine.get_loc\u001b[1;34m()\u001b[0m\n",
      "File \u001b[1;32mpandas\\\\_libs\\\\hashtable_class_helper.pxi:7081\u001b[0m, in \u001b[0;36mpandas._libs.hashtable.PyObjectHashTable.get_item\u001b[1;34m()\u001b[0m\n",
      "File \u001b[1;32mpandas\\\\_libs\\\\hashtable_class_helper.pxi:7089\u001b[0m, in \u001b[0;36mpandas._libs.hashtable.PyObjectHashTable.get_item\u001b[1;34m()\u001b[0m\n",
      "\u001b[1;31mKeyError\u001b[0m: 'Student 3'",
      "\nThe above exception was the direct cause of the following exception:\n",
      "\u001b[1;31mKeyError\u001b[0m                                  Traceback (most recent call last)",
      "Cell \u001b[1;32mIn[35], line 1\u001b[0m\n\u001b[1;32m----> 1\u001b[0m \u001b[38;5;28mprint\u001b[39m(\u001b[38;5;124m\"\u001b[39m\u001b[38;5;124mStudent 3 scores:\u001b[39m\u001b[38;5;130;01m\\n\u001b[39;00m\u001b[38;5;124m\"\u001b[39m, \u001b[43mexam_scores\u001b[49m\u001b[38;5;241;43m.\u001b[39;49m\u001b[43mloc\u001b[49m\u001b[43m[\u001b[49m\u001b[38;5;124;43m\"\u001b[39;49m\u001b[38;5;124;43mStudent 3\u001b[39;49m\u001b[38;5;124;43m\"\u001b[39;49m\u001b[43m]\u001b[49m)\n",
      "File \u001b[1;32m~\\AppData\\Local\\Programs\\Python\\Python313\\Lib\\site-packages\\pandas\\core\\indexing.py:1191\u001b[0m, in \u001b[0;36m_LocationIndexer.__getitem__\u001b[1;34m(self, key)\u001b[0m\n\u001b[0;32m   1189\u001b[0m maybe_callable \u001b[38;5;241m=\u001b[39m com\u001b[38;5;241m.\u001b[39mapply_if_callable(key, \u001b[38;5;28mself\u001b[39m\u001b[38;5;241m.\u001b[39mobj)\n\u001b[0;32m   1190\u001b[0m maybe_callable \u001b[38;5;241m=\u001b[39m \u001b[38;5;28mself\u001b[39m\u001b[38;5;241m.\u001b[39m_check_deprecated_callable_usage(key, maybe_callable)\n\u001b[1;32m-> 1191\u001b[0m \u001b[38;5;28;01mreturn\u001b[39;00m \u001b[38;5;28;43mself\u001b[39;49m\u001b[38;5;241;43m.\u001b[39;49m\u001b[43m_getitem_axis\u001b[49m\u001b[43m(\u001b[49m\u001b[43mmaybe_callable\u001b[49m\u001b[43m,\u001b[49m\u001b[43m \u001b[49m\u001b[43maxis\u001b[49m\u001b[38;5;241;43m=\u001b[39;49m\u001b[43maxis\u001b[49m\u001b[43m)\u001b[49m\n",
      "File \u001b[1;32m~\\AppData\\Local\\Programs\\Python\\Python313\\Lib\\site-packages\\pandas\\core\\indexing.py:1431\u001b[0m, in \u001b[0;36m_LocIndexer._getitem_axis\u001b[1;34m(self, key, axis)\u001b[0m\n\u001b[0;32m   1429\u001b[0m \u001b[38;5;66;03m# fall thru to straight lookup\u001b[39;00m\n\u001b[0;32m   1430\u001b[0m \u001b[38;5;28mself\u001b[39m\u001b[38;5;241m.\u001b[39m_validate_key(key, axis)\n\u001b[1;32m-> 1431\u001b[0m \u001b[38;5;28;01mreturn\u001b[39;00m \u001b[38;5;28;43mself\u001b[39;49m\u001b[38;5;241;43m.\u001b[39;49m\u001b[43m_get_label\u001b[49m\u001b[43m(\u001b[49m\u001b[43mkey\u001b[49m\u001b[43m,\u001b[49m\u001b[43m \u001b[49m\u001b[43maxis\u001b[49m\u001b[38;5;241;43m=\u001b[39;49m\u001b[43maxis\u001b[49m\u001b[43m)\u001b[49m\n",
      "File \u001b[1;32m~\\AppData\\Local\\Programs\\Python\\Python313\\Lib\\site-packages\\pandas\\core\\indexing.py:1381\u001b[0m, in \u001b[0;36m_LocIndexer._get_label\u001b[1;34m(self, label, axis)\u001b[0m\n\u001b[0;32m   1379\u001b[0m \u001b[38;5;28;01mdef\u001b[39;00m\u001b[38;5;250m \u001b[39m\u001b[38;5;21m_get_label\u001b[39m(\u001b[38;5;28mself\u001b[39m, label, axis: AxisInt):\n\u001b[0;32m   1380\u001b[0m     \u001b[38;5;66;03m# GH#5567 this will fail if the label is not present in the axis.\u001b[39;00m\n\u001b[1;32m-> 1381\u001b[0m     \u001b[38;5;28;01mreturn\u001b[39;00m \u001b[38;5;28;43mself\u001b[39;49m\u001b[38;5;241;43m.\u001b[39;49m\u001b[43mobj\u001b[49m\u001b[38;5;241;43m.\u001b[39;49m\u001b[43mxs\u001b[49m\u001b[43m(\u001b[49m\u001b[43mlabel\u001b[49m\u001b[43m,\u001b[49m\u001b[43m \u001b[49m\u001b[43maxis\u001b[49m\u001b[38;5;241;43m=\u001b[39;49m\u001b[43maxis\u001b[49m\u001b[43m)\u001b[49m\n",
      "File \u001b[1;32m~\\AppData\\Local\\Programs\\Python\\Python313\\Lib\\site-packages\\pandas\\core\\generic.py:4301\u001b[0m, in \u001b[0;36mNDFrame.xs\u001b[1;34m(self, key, axis, level, drop_level)\u001b[0m\n\u001b[0;32m   4299\u001b[0m             new_index \u001b[38;5;241m=\u001b[39m index[loc]\n\u001b[0;32m   4300\u001b[0m \u001b[38;5;28;01melse\u001b[39;00m:\n\u001b[1;32m-> 4301\u001b[0m     loc \u001b[38;5;241m=\u001b[39m \u001b[43mindex\u001b[49m\u001b[38;5;241;43m.\u001b[39;49m\u001b[43mget_loc\u001b[49m\u001b[43m(\u001b[49m\u001b[43mkey\u001b[49m\u001b[43m)\u001b[49m\n\u001b[0;32m   4303\u001b[0m     \u001b[38;5;28;01mif\u001b[39;00m \u001b[38;5;28misinstance\u001b[39m(loc, np\u001b[38;5;241m.\u001b[39mndarray):\n\u001b[0;32m   4304\u001b[0m         \u001b[38;5;28;01mif\u001b[39;00m loc\u001b[38;5;241m.\u001b[39mdtype \u001b[38;5;241m==\u001b[39m np\u001b[38;5;241m.\u001b[39mbool_:\n",
      "File \u001b[1;32m~\\AppData\\Local\\Programs\\Python\\Python313\\Lib\\site-packages\\pandas\\core\\indexes\\base.py:3812\u001b[0m, in \u001b[0;36mIndex.get_loc\u001b[1;34m(self, key)\u001b[0m\n\u001b[0;32m   3807\u001b[0m     \u001b[38;5;28;01mif\u001b[39;00m \u001b[38;5;28misinstance\u001b[39m(casted_key, \u001b[38;5;28mslice\u001b[39m) \u001b[38;5;129;01mor\u001b[39;00m (\n\u001b[0;32m   3808\u001b[0m         \u001b[38;5;28misinstance\u001b[39m(casted_key, abc\u001b[38;5;241m.\u001b[39mIterable)\n\u001b[0;32m   3809\u001b[0m         \u001b[38;5;129;01mand\u001b[39;00m \u001b[38;5;28many\u001b[39m(\u001b[38;5;28misinstance\u001b[39m(x, \u001b[38;5;28mslice\u001b[39m) \u001b[38;5;28;01mfor\u001b[39;00m x \u001b[38;5;129;01min\u001b[39;00m casted_key)\n\u001b[0;32m   3810\u001b[0m     ):\n\u001b[0;32m   3811\u001b[0m         \u001b[38;5;28;01mraise\u001b[39;00m InvalidIndexError(key)\n\u001b[1;32m-> 3812\u001b[0m     \u001b[38;5;28;01mraise\u001b[39;00m \u001b[38;5;167;01mKeyError\u001b[39;00m(key) \u001b[38;5;28;01mfrom\u001b[39;00m\u001b[38;5;250m \u001b[39m\u001b[38;5;21;01merr\u001b[39;00m\n\u001b[0;32m   3813\u001b[0m \u001b[38;5;28;01mexcept\u001b[39;00m \u001b[38;5;167;01mTypeError\u001b[39;00m:\n\u001b[0;32m   3814\u001b[0m     \u001b[38;5;66;03m# If we have a listlike key, _check_indexing_error will raise\u001b[39;00m\n\u001b[0;32m   3815\u001b[0m     \u001b[38;5;66;03m#  InvalidIndexError. Otherwise we fall through and re-raise\u001b[39;00m\n\u001b[0;32m   3816\u001b[0m     \u001b[38;5;66;03m#  the TypeError.\u001b[39;00m\n\u001b[0;32m   3817\u001b[0m     \u001b[38;5;28mself\u001b[39m\u001b[38;5;241m.\u001b[39m_check_indexing_error(key)\n",
      "\u001b[1;31mKeyError\u001b[0m: 'Student 3'"
     ]
    }
   ],
   "source": [
    "print(\"Student 3 scores:\\n\", exam_scores.loc[\"Student 3\"])\n"
   ]
  },
  {
   "cell_type": "code",
   "execution_count": 36,
   "id": "b4927872-06da-47b3-a652-5d58b567660d",
   "metadata": {},
   "outputs": [
    {
     "name": "stdout",
     "output_type": "stream",
     "text": [
      "Student3 scores:\n",
      " Math       92\n",
      "Science    89\n",
      "English    78\n",
      "History    80\n",
      "Name: Student3, dtype: int64\n"
     ]
    }
   ],
   "source": [
    "print(\"Student3 scores:\\n\", exam_scores.loc[\"Student3\"])\n"
   ]
  },
  {
   "cell_type": "code",
   "execution_count": 37,
   "id": "4db437b2-23c3-463a-b9ef-fe3b20890f5f",
   "metadata": {},
   "outputs": [
    {
     "name": "stdout",
     "output_type": "stream",
     "text": [
      "Math scores:\n",
      " Student1    85\n",
      "Student2    78\n",
      "Student3    92\n",
      "Student4    60\n",
      "Student5    74\n",
      "Student6    88\n",
      "Name: Math, dtype: int64\n"
     ]
    }
   ],
   "source": [
    "print(\"Math scores:\\n\", exam_scores[\"Math\"])\n"
   ]
  },
  {
   "cell_type": "code",
   "execution_count": 39,
   "id": "12bdb24d-541c-45e9-83a3-b95804038598",
   "metadata": {},
   "outputs": [
    {
     "name": "stdout",
     "output_type": "stream",
     "text": [
      "Selected scores:\n",
      "           Science  English\n",
      "Student1       80       75\n",
      "Student4       65       55\n"
     ]
    }
   ],
   "source": [
    "print(\"Selected scores:\\n\", exam_scores.loc[[\"Student1\", \"Student4\"], [\"Science\", \"English\"]])"
   ]
  },
  {
   "cell_type": "code",
   "execution_count": 40,
   "id": "35d59c20-e6ca-4ce9-894d-bfb31b658387",
   "metadata": {},
   "outputs": [
    {
     "name": "stdout",
     "output_type": "stream",
     "text": [
      "First 4 students, first 3 subjects:\n",
      "           Math  Science  English\n",
      "Student1    85       80       75\n",
      "Student2    78       82       85\n",
      "Student3    92       89       78\n",
      "Student4    60       65       55\n"
     ]
    }
   ],
   "source": [
    "print(\"First 4 students, first 3 subjects:\\n\", exam_scores.iloc[:4, :3])\n"
   ]
  },
  {
   "cell_type": "code",
   "execution_count": 41,
   "id": "4db7c3ee-0b7c-44b8-9947-505fa72ca382",
   "metadata": {},
   "outputs": [
    {
     "name": "stdout",
     "output_type": "stream",
     "text": [
      "Student5 History score: 68\n"
     ]
    }
   ],
   "source": [
    "print(\"Student5 History score:\", exam_scores.loc[\"Student5\", \"History\"])"
   ]
  },
  {
   "cell_type": "code",
   "execution_count": 42,
   "id": "bc985b90-9bc9-4d02-9fd4-3b37d4a7eba9",
   "metadata": {},
   "outputs": [
    {
     "name": "stdout",
     "output_type": "stream",
     "text": [
      "Updated scores:\n",
      "           Math  Science  English  History\n",
      "Student1    85       80       75       70\n",
      "Student2    85       82       85       75\n",
      "Student3    92       89       78       80\n",
      "Student4    60       65       55       50\n",
      "Student5    74       70       72       68\n",
      "Student6    88       90       88       82\n"
     ]
    }
   ],
   "source": [
    "exam_scores.at[\"Student2\", \"Math\"] = 85\n",
    "print(\"Updated scores:\\n\", exam_scores)"
   ]
  },
  {
   "cell_type": "code",
   "execution_count": 43,
   "id": "2d46ec42-1011-4a06-b855-e95421228d0c",
   "metadata": {},
   "outputs": [
    {
     "name": "stdout",
     "output_type": "stream",
     "text": [
      "After adding Student7:\n",
      "           Math  Science  English  History\n",
      "Student1    85       80       75       70\n",
      "Student2    85       82       85       75\n",
      "Student3    92       89       78       80\n",
      "Student4    60       65       55       50\n",
      "Student5    74       70       72       68\n",
      "Student6    88       90       88       82\n",
      "Student7    90       85       88       80\n"
     ]
    }
   ],
   "source": [
    "exam_scores.loc[\"Student7\"] = [90, 85, 88, 80]\n",
    "print(\"After adding Student7:\\n\", exam_scores)"
   ]
  },
  {
   "cell_type": "code",
   "execution_count": 44,
   "id": "ade29905-9e53-4a96-b758-566f1fcd8f4a",
   "metadata": {},
   "outputs": [
    {
     "name": "stdout",
     "output_type": "stream",
     "text": [
      "After adding bonus marks:\n",
      "           Math  Science  English  History\n",
      "Student1    90       85       80       75\n",
      "Student2    90       87       90       80\n",
      "Student3    97       94       83       85\n",
      "Student4    65       70       60       55\n",
      "Student5    79       75       77       73\n",
      "Student6    93       95       93       87\n",
      "Student7    95       90       93       85\n"
     ]
    }
   ],
   "source": [
    "exam_scores += 5\n",
    "print(\"After adding bonus marks:\\n\", exam_scores)"
   ]
  },
  {
   "cell_type": "code",
   "execution_count": 45,
   "id": "33016579-a0c8-414a-93b1-97bc58c851b3",
   "metadata": {},
   "outputs": [
    {
     "name": "stdout",
     "output_type": "stream",
     "text": [
      "After deducting marks from Student4:\n",
      "           Math  Science  English  History\n",
      "Student1    90       85       80       75\n",
      "Student2    90       87       90       80\n",
      "Student3    97       94       83       85\n",
      "Student4    62       67       57       52\n",
      "Student5    79       75       77       73\n",
      "Student6    93       95       93       87\n",
      "Student7    95       90       93       85\n"
     ]
    }
   ],
   "source": [
    "exam_scores.loc[\"Student4\"] -= 3\n",
    "print(\"After deducting marks from Student4:\\n\", exam_scores)\n"
   ]
  },
  {
   "cell_type": "code",
   "execution_count": 46,
   "id": "2b034324-91b4-4cc5-8695-ee1d4a23b0a7",
   "metadata": {},
   "outputs": [
    {
     "name": "stdout",
     "output_type": "stream",
     "text": [
      "Percentage scores:\n",
      "           Math  Science  English  History\n",
      "Student1  90.0     85.0     80.0     75.0\n",
      "Student2  90.0     87.0     90.0     80.0\n",
      "Student3  97.0     94.0     83.0     85.0\n",
      "Student4  62.0     67.0     57.0     52.0\n",
      "Student5  79.0     75.0     77.0     73.0\n",
      "Student6  93.0     95.0     93.0     87.0\n",
      "Student7  95.0     90.0     93.0     85.0\n"
     ]
    }
   ],
   "source": [
    "percentage_scores = (exam_scores / 100) * 100\n",
    "print(\"Percentage scores:\\n\", percentage_scores)"
   ]
  },
  {
   "cell_type": "code",
   "execution_count": 47,
   "id": "1bfaa38a-6c54-4dd9-b98a-ad83ce79f6e5",
   "metadata": {},
   "outputs": [
    {
     "name": "stdout",
     "output_type": "stream",
     "text": [
      "Total marks per student:\n",
      " Student1    330\n",
      "Student2    347\n",
      "Student3    359\n",
      "Student4    238\n",
      "Student5    304\n",
      "Student6    368\n",
      "Student7    363\n",
      "dtype: int64\n"
     ]
    }
   ],
   "source": [
    "total_marks_per_student = exam_scores.sum(axis=1)\n",
    "print(\"Total marks per student:\\n\", total_marks_per_student)"
   ]
  },
  {
   "cell_type": "code",
   "execution_count": 48,
   "id": "f49d2afc-f51d-4246-967a-0ad3b321a69c",
   "metadata": {},
   "outputs": [
    {
     "name": "stdout",
     "output_type": "stream",
     "text": [
      "Total marks per subject:\n",
      " Math       606\n",
      "Science    593\n",
      "English    573\n",
      "History    537\n",
      "dtype: int64\n"
     ]
    }
   ],
   "source": [
    "total_marks_per_subject = exam_scores.sum(axis=0)\n",
    "print(\"Total marks per subject:\\n\", total_marks_per_subject)"
   ]
  },
  {
   "cell_type": "code",
   "execution_count": 49,
   "id": "5c9d066c-a413-4b12-acdf-101c56c902c4",
   "metadata": {},
   "outputs": [
    {
     "name": "stdout",
     "output_type": "stream",
     "text": [
      "Student with the highest total marks: Student6\n"
     ]
    }
   ],
   "source": [
    "top_student = total_marks_per_student.idxmax()\n",
    "print(\"Student with the highest total marks:\", top_student)"
   ]
  },
  {
   "cell_type": "code",
   "execution_count": 50,
   "id": "b2f5eccd-27c6-4f82-951a-666749f182da",
   "metadata": {},
   "outputs": [
    {
     "name": "stdout",
     "output_type": "stream",
     "text": [
      "Subject with the lowest total marks: History\n"
     ]
    }
   ],
   "source": [
    "lowest_subject = total_marks_per_subject.idxmin()\n",
    "print(\"Subject with the lowest total marks:\", lowest_subject)"
   ]
  },
  {
   "cell_type": "code",
   "execution_count": 51,
   "id": "a739822a-8881-4308-9f53-b570bb1f205e",
   "metadata": {},
   "outputs": [
    {
     "name": "stdout",
     "output_type": "stream",
     "text": [
      "Average marks per student:\n",
      " Student1    82.50\n",
      "Student2    86.75\n",
      "Student3    89.75\n",
      "Student4    59.50\n",
      "Student5    76.00\n",
      "Student6    92.00\n",
      "Student7    90.75\n",
      "dtype: float64\n"
     ]
    }
   ],
   "source": [
    "average_marks_per_student = exam_scores.mean(axis=1)\n",
    "print(\"Average marks per student:\\n\", average_marks_per_student)"
   ]
  },
  {
   "cell_type": "code",
   "execution_count": null,
   "id": "38dfb2ed-21c9-4a87-adf3-8be208db92ac",
   "metadata": {},
   "outputs": [],
   "source": []
  }
 ],
 "metadata": {
  "kernelspec": {
   "display_name": "Python 3 (ipykernel)",
   "language": "python",
   "name": "python3"
  },
  "language_info": {
   "codemirror_mode": {
    "name": "ipython",
    "version": 3
   },
   "file_extension": ".py",
   "mimetype": "text/x-python",
   "name": "python",
   "nbconvert_exporter": "python",
   "pygments_lexer": "ipython3",
   "version": "3.13.1"
  }
 },
 "nbformat": 4,
 "nbformat_minor": 5
}
