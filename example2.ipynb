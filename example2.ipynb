{
 "cells": [
  {
   "cell_type": "code",
   "execution_count": 8,
   "id": "f5aa0bb2-fc15-4bd5-ada8-ff32421ccb4c",
   "metadata": {},
   "outputs": [],
   "source": [
    "import numpy as np"
   ]
  },
  {
   "cell_type": "code",
   "execution_count": 9,
   "id": "e673ee39-8ca9-43bd-8683-03b198984309",
   "metadata": {},
   "outputs": [],
   "source": [
    "scores = np.array([\n",
    "    [85, 90, 78, 92, 88],   # Student 1\n",
    "    [72, 75, 80, 68, 74],   # Student 2\n",
    "    [95, 88, 92, 96, 90],   # Student 3\n",
    "    [60, 65, 70, 58, 62],   # Student 4\n",
    "    [88, 84, 86, 89, 87]    # Student 5\n",
    "])"
   ]
  },
  {
   "cell_type": "code",
   "execution_count": 10,
   "id": "80dfc435-a6d5-424d-a7ea-812248af620c",
   "metadata": {},
   "outputs": [
    {
     "name": "stdout",
     "output_type": "stream",
     "text": [
      "Student 3 scores: [95 88 92 96 90]\n"
     ]
    }
   ],
   "source": [
    "student3_scores = scores[2]\n",
    "print(\"Student 3 scores:\", student3_scores)"
   ]
  },
  {
   "cell_type": "code",
   "execution_count": 11,
   "id": "a1a57b88-b369-4a34-9e0e-6d4d21850933",
   "metadata": {},
   "outputs": [
    {
     "name": "stdout",
     "output_type": "stream",
     "text": [
      "Subject 2 scores: [90 75 88 65 84]\n"
     ]
    }
   ],
   "source": [
    "subject2_scores = scores[:, 1]\n",
    "print(\"Subject 2 scores:\", subject2_scores)"
   ]
  },
  {
   "cell_type": "code",
   "execution_count": 12,
   "id": "99ba51a0-b123-40f0-b069-361468f3bef2",
   "metadata": {},
   "outputs": [
    {
     "name": "stdout",
     "output_type": "stream",
     "text": [
      "First 3 students, first 2 subjects:\n",
      " [[85 90]\n",
      " [72 75]\n",
      " [95 88]]\n"
     ]
    }
   ],
   "source": [
    "subset1 = scores[:3, :2]\n",
    "print(\"First 3 students, first 2 subjects:\\n\", subset1)"
   ]
  },
  {
   "cell_type": "code",
   "execution_count": 13,
   "id": "5b267cf8-204f-4a96-836a-f89690b0bcea",
   "metadata": {},
   "outputs": [
    {
     "name": "stdout",
     "output_type": "stream",
     "text": [
      "Last 2 students, last 3 subjects:\n",
      " [[70 58 62]\n",
      " [86 89 87]]\n"
     ]
    }
   ],
   "source": [
    "subset2 = scores[-2:, -3:]\n",
    "print(\"Last 2 students, last 3 subjects:\\n\", subset2)"
   ]
  },
  {
   "cell_type": "code",
   "execution_count": 14,
   "id": "5b93b301-a7ce-432c-b97c-64af57b2ca71",
   "metadata": {},
   "outputs": [
    {
     "name": "stdout",
     "output_type": "stream",
     "text": [
      "Scores after adding 5 bonus marks:\n",
      " [[ 90  95  83  97  93]\n",
      " [ 77  80  85  73  79]\n",
      " [100  93  97 101  95]\n",
      " [ 65  70  75  63  67]\n",
      " [ 93  89  91  94  92]]\n"
     ]
    }
   ],
   "source": [
    "bonus_scores = scores + 5\n",
    "print(\"Scores after adding 5 bonus marks:\\n\", bonus_scores)\n"
   ]
  },
  {
   "cell_type": "code",
   "execution_count": 15,
   "id": "e798486d-03ac-45d8-90fc-d714ec98a0e3",
   "metadata": {},
   "outputs": [
    {
     "name": "stdout",
     "output_type": "stream",
     "text": [
      "Scores after subtracting 10 from Subject 4:\n",
      " [[85 90 78 82 88]\n",
      " [72 75 80 58 74]\n",
      " [95 88 92 86 90]\n",
      " [60 65 70 48 62]\n",
      " [88 84 86 79 87]]\n"
     ]
    }
   ],
   "source": [
    "scores[:, 3] -= 10\n",
    "print(\"Scores after subtracting 10 from Subject 4:\\n\", scores)"
   ]
  },
  {
   "cell_type": "code",
   "execution_count": 16,
   "id": "10463bfe-1000-49d4-9002-d77267ce5971",
   "metadata": {},
   "outputs": [
    {
     "name": "stdout",
     "output_type": "stream",
     "text": [
      "Percentage scores:\n",
      " [[85. 90. 78. 82. 88.]\n",
      " [72. 75. 80. 58. 74.]\n",
      " [95. 88. 92. 86. 90.]\n",
      " [60. 65. 70. 48. 62.]\n",
      " [88. 84. 86. 79. 87.]]\n"
     ]
    }
   ],
   "source": [
    "percentage_scores = (scores / 100) * 100\n",
    "print(\"Percentage scores:\\n\", percentage_scores)\n"
   ]
  },
  {
   "cell_type": "code",
   "execution_count": 17,
   "id": "62eef00d-c863-4590-9dcd-0e119f3b7ec2",
   "metadata": {},
   "outputs": [
    {
     "name": "stdout",
     "output_type": "stream",
     "text": [
      "Average scores per student: [84.6 71.8 90.2 61.  84.8]\n"
     ]
    }
   ],
   "source": [
    "average_scores = np.mean(scores, axis=1)\n",
    "print(\"Average scores per student:\", average_scores)"
   ]
  },
  {
   "cell_type": "code",
   "execution_count": 18,
   "id": "7f64112c-7cf2-42c0-ac51-b27753eb2bb6",
   "metadata": {},
   "outputs": [
    {
     "name": "stdout",
     "output_type": "stream",
     "text": [
      "Total marks per student: [423 359 451 305 424]\n"
     ]
    }
   ],
   "source": [
    "total_marks = np.sum(scores, axis=1)\n",
    "print(\"Total marks per student:\", total_marks)"
   ]
  },
  {
   "cell_type": "code",
   "execution_count": 19,
   "id": "5e416b74-7e08-4879-9c1f-ccb386feadd3",
   "metadata": {},
   "outputs": [
    {
     "name": "stdout",
     "output_type": "stream",
     "text": [
      "Highest score in the array: 95\n"
     ]
    }
   ],
   "source": [
    "highest_score = np.max(scores)\n",
    "print(\"Highest score in the array:\", highest_score)\n"
   ]
  },
  {
   "cell_type": "code",
   "execution_count": 20,
   "id": "54a50d6f-4395-4e85-b99a-05d5a24f1542",
   "metadata": {},
   "outputs": [
    {
     "name": "stdout",
     "output_type": "stream",
     "text": [
      "Average score per subject: [80.  80.4 81.2 70.6 80.2]\n"
     ]
    }
   ],
   "source": [
    "average_per_subject = np.mean(scores, axis=0)\n",
    "print(\"Average score per subject:\", average_per_subject)\n"
   ]
  },
  {
   "cell_type": "code",
   "execution_count": 21,
   "id": "67ca58a5-e548-4bc0-9221-7f924a7dab35",
   "metadata": {},
   "outputs": [
    {
     "name": "stdout",
     "output_type": "stream",
     "text": [
      "Student with lowest average score: 4\n"
     ]
    }
   ],
   "source": [
    "lowest_avg_student = np.argmin(average_scores) + 1  # Adding 1 to match student numbering\n",
    "print(\"Student with lowest average score:\", lowest_avg_student)"
   ]
  },
  {
   "cell_type": "code",
   "execution_count": null,
   "id": "239dff5c-ddd6-480a-9ba7-168f96e403b1",
   "metadata": {},
   "outputs": [],
   "source": []
  }
 ],
 "metadata": {
  "kernelspec": {
   "display_name": "Python 3 (ipykernel)",
   "language": "python",
   "name": "python3"
  },
  "language_info": {
   "codemirror_mode": {
    "name": "ipython",
    "version": 3
   },
   "file_extension": ".py",
   "mimetype": "text/x-python",
   "name": "python",
   "nbconvert_exporter": "python",
   "pygments_lexer": "ipython3",
   "version": "3.13.1"
  }
 },
 "nbformat": 4,
 "nbformat_minor": 5
}
