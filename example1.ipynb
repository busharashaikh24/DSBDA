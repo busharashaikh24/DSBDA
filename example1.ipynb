{
 "cells": [
  {
   "cell_type": "code",
   "execution_count": 1,
   "id": "d1fab20d-a07d-42a4-884d-b36161b89373",
   "metadata": {},
   "outputs": [
    {
     "name": "stdout",
     "output_type": "stream",
     "text": [
      "Requirement already satisfied: numpy in c:\\users\\osman\\appdata\\local\\programs\\python\\python313\\lib\\site-packages (2.2.2)\n",
      "Note: you may need to restart the kernel to use updated packages.\n"
     ]
    },
    {
     "name": "stderr",
     "output_type": "stream",
     "text": [
      "\n",
      "[notice] A new release of pip is available: 24.3.1 -> 25.0\n",
      "[notice] To update, run: python.exe -m pip install --upgrade pip\n"
     ]
    }
   ],
   "source": [
    "pip install numpy\n"
   ]
  },
  {
   "cell_type": "code",
   "execution_count": 2,
   "id": "59681a46-4aa5-4a2d-8747-94aee062ab41",
   "metadata": {},
   "outputs": [],
   "source": [
    "import numpy as np"
   ]
  },
  {
   "cell_type": "code",
   "execution_count": 3,
   "id": "596a302d-17e9-4c96-8edd-79f87b21a7a8",
   "metadata": {},
   "outputs": [
    {
     "name": "stdout",
     "output_type": "stream",
     "text": [
      "[100 200 150 300 250 400 350]\n"
     ]
    }
   ],
   "source": [
    "sales = np.array([100, 200, 150, 300, 250, 400, 350])\n",
    "print(sales)"
   ]
  },
  {
   "cell_type": "code",
   "execution_count": 4,
   "id": "1d7aa7dc-1702-4db5-b3e5-054ef8998e61",
   "metadata": {},
   "outputs": [
    {
     "name": "stdout",
     "output_type": "stream",
     "text": [
      "[10 40 90]\n"
     ]
    }
   ],
   "source": [
    "store1_prices = np.array([10, 20, 30])\n",
    "store2_prices = np.array([1, 2, 3])\n",
    "result = store1_prices * store2_prices\n",
    "print(result)"
   ]
  },
  {
   "cell_type": "code",
   "execution_count": 5,
   "id": "cf439660-f4b7-42ad-a3c4-716140f2eda4",
   "metadata": {},
   "outputs": [
    {
     "name": "stdout",
     "output_type": "stream",
     "text": [
      "[300 400 500 600]\n"
     ]
    }
   ],
   "source": [
    "sales_january = np.array([300, 400])\n",
    "sales_february = np.array([500, 600])\n",
    "combined_sales = np.concatenate((sales_january, sales_february))\n",
    "print(combined_sales) "
   ]
  },
  {
   "cell_type": "code",
   "execution_count": 6,
   "id": "00159606-7b73-46f7-8a0a-0cfff154f898",
   "metadata": {},
   "outputs": [
    {
     "name": "stdout",
     "output_type": "stream",
     "text": [
      "[80 90 85 95]\n"
     ]
    }
   ],
   "source": [
    "scores = np.array([[80, 90], [85, 95]])\n",
    "flat_scores = scores.flatten()\n",
    "print(flat_scores)"
   ]
  },
  {
   "cell_type": "code",
   "execution_count": 7,
   "id": "31fdad4d-6e72-4fe7-b94d-c02485734096",
   "metadata": {},
   "outputs": [
    {
     "name": "stdout",
     "output_type": "stream",
     "text": [
      "[[1 2 3]\n",
      " [4 5 6]]\n"
     ]
    }
   ],
   "source": [
    "data = np.array([1, 2, 3, 4, 5, 6])\n",
    "reshaped_data = data.reshape(2, 3)\n",
    "print(reshaped_data)"
   ]
  },
  {
   "cell_type": "code",
   "execution_count": null,
   "id": "d7d206a2-4992-4568-aec4-43dba38e40c3",
   "metadata": {},
   "outputs": [],
   "source": []
  }
 ],
 "metadata": {
  "kernelspec": {
   "display_name": "Python 3 (ipykernel)",
   "language": "python",
   "name": "python3"
  },
  "language_info": {
   "codemirror_mode": {
    "name": "ipython",
    "version": 3
   },
   "file_extension": ".py",
   "mimetype": "text/x-python",
   "name": "python",
   "nbconvert_exporter": "python",
   "pygments_lexer": "ipython3",
   "version": "3.13.1"
  }
 },
 "nbformat": 4,
 "nbformat_minor": 5
}
